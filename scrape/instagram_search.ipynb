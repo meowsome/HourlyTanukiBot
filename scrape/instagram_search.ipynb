{
 "cells": [
  {
   "cell_type": "code",
   "execution_count": 1,
   "metadata": {},
   "outputs": [],
   "source": [
    "import instaloader\n",
    "from datetime import datetime, timedelta\n",
    "import os\n",
    "import shutil"
   ]
  },
  {
   "cell_type": "code",
   "execution_count": 2,
   "metadata": {},
   "outputs": [],
   "source": [
    "folder_name = \"..\\tmp\"\n",
    "searches = [\"tanuki\", \"raccoondog\", \"japaneseraccoondog\"]"
   ]
  },
  {
   "cell_type": "code",
   "execution_count": 3,
   "metadata": {},
   "outputs": [],
   "source": [
    "# If post was made in last 30 days \n",
    "def is_post_new(post_time):\n",
    "    thirty_day_ago = datetime.now() - timedelta(days=30)\n",
    "    return (post_time - thirty_day_ago).days > 0"
   ]
  },
  {
   "cell_type": "code",
   "execution_count": 4,
   "metadata": {},
   "outputs": [],
   "source": [
    "L = instaloader.Instaloader()"
   ]
  },
  {
   "cell_type": "code",
   "execution_count": 5,
   "metadata": {},
   "outputs": [],
   "source": [
    "i = 0"
   ]
  },
  {
   "cell_type": "code",
   "execution_count": 7,
   "metadata": {},
   "outputs": [
    {
     "name": "stderr",
     "output_type": "stream",
     "text": [
      "JSON Query to explore/tags/tanuki/: HTTP error code 401. [retrying; skip with ^C]\n",
      "JSON Query to explore/tags/tanuki/: HTTP error code 401. [retrying; skip with ^C]\n"
     ]
    },
    {
     "ename": "ConnectionException",
     "evalue": "JSON Query to explore/tags/tanuki/: HTTP error code 401.",
     "output_type": "error",
     "traceback": [
      "\u001b[1;31m---------------------------------------------------------------------------\u001b[0m",
      "\u001b[1;31mConnectionException\u001b[0m                       Traceback (most recent call last)",
      "File \u001b[1;32mc:\\Users\\Tyler\\AppData\\Local\\Programs\\Python\\Python310\\lib\\site-packages\\instaloader\\instaloadercontext.py:352\u001b[0m, in \u001b[0;36mInstaloaderContext.get_json\u001b[1;34m(self, path, params, host, session, _attempt)\u001b[0m\n\u001b[0;32m    351\u001b[0m \u001b[39mif\u001b[39;00m resp\u001b[39m.\u001b[39mstatus_code \u001b[39m!=\u001b[39m \u001b[39m200\u001b[39m:\n\u001b[1;32m--> 352\u001b[0m     \u001b[39mraise\u001b[39;00m ConnectionException(\u001b[39m\"\u001b[39m\u001b[39mHTTP error code \u001b[39m\u001b[39m{}\u001b[39;00m\u001b[39m.\u001b[39m\u001b[39m\"\u001b[39m\u001b[39m.\u001b[39mformat(resp\u001b[39m.\u001b[39mstatus_code))\n\u001b[0;32m    353\u001b[0m is_html_query \u001b[39m=\u001b[39m \u001b[39mnot\u001b[39;00m is_graphql_query \u001b[39mand\u001b[39;00m \u001b[39mnot\u001b[39;00m \u001b[39m\"\u001b[39m\u001b[39m__a\u001b[39m\u001b[39m\"\u001b[39m \u001b[39min\u001b[39;00m params \u001b[39mand\u001b[39;00m host \u001b[39m==\u001b[39m \u001b[39m\"\u001b[39m\u001b[39mwww.instagram.com\u001b[39m\u001b[39m\"\u001b[39m\n",
      "\u001b[1;31mConnectionException\u001b[0m: HTTP error code 401.",
      "\nDuring handling of the above exception, another exception occurred:\n",
      "\u001b[1;31mConnectionException\u001b[0m                       Traceback (most recent call last)",
      "File \u001b[1;32mc:\\Users\\Tyler\\AppData\\Local\\Programs\\Python\\Python310\\lib\\site-packages\\instaloader\\instaloadercontext.py:352\u001b[0m, in \u001b[0;36mInstaloaderContext.get_json\u001b[1;34m(self, path, params, host, session, _attempt)\u001b[0m\n\u001b[0;32m    351\u001b[0m \u001b[39mif\u001b[39;00m resp\u001b[39m.\u001b[39mstatus_code \u001b[39m!=\u001b[39m \u001b[39m200\u001b[39m:\n\u001b[1;32m--> 352\u001b[0m     \u001b[39mraise\u001b[39;00m ConnectionException(\u001b[39m\"\u001b[39m\u001b[39mHTTP error code \u001b[39m\u001b[39m{}\u001b[39;00m\u001b[39m.\u001b[39m\u001b[39m\"\u001b[39m\u001b[39m.\u001b[39mformat(resp\u001b[39m.\u001b[39mstatus_code))\n\u001b[0;32m    353\u001b[0m is_html_query \u001b[39m=\u001b[39m \u001b[39mnot\u001b[39;00m is_graphql_query \u001b[39mand\u001b[39;00m \u001b[39mnot\u001b[39;00m \u001b[39m\"\u001b[39m\u001b[39m__a\u001b[39m\u001b[39m\"\u001b[39m \u001b[39min\u001b[39;00m params \u001b[39mand\u001b[39;00m host \u001b[39m==\u001b[39m \u001b[39m\"\u001b[39m\u001b[39mwww.instagram.com\u001b[39m\u001b[39m\"\u001b[39m\n",
      "\u001b[1;31mConnectionException\u001b[0m: HTTP error code 401.",
      "\nDuring handling of the above exception, another exception occurred:\n",
      "\u001b[1;31mConnectionException\u001b[0m                       Traceback (most recent call last)",
      "File \u001b[1;32mc:\\Users\\Tyler\\AppData\\Local\\Programs\\Python\\Python310\\lib\\site-packages\\instaloader\\instaloadercontext.py:352\u001b[0m, in \u001b[0;36mInstaloaderContext.get_json\u001b[1;34m(self, path, params, host, session, _attempt)\u001b[0m\n\u001b[0;32m    351\u001b[0m \u001b[39mif\u001b[39;00m resp\u001b[39m.\u001b[39mstatus_code \u001b[39m!=\u001b[39m \u001b[39m200\u001b[39m:\n\u001b[1;32m--> 352\u001b[0m     \u001b[39mraise\u001b[39;00m ConnectionException(\u001b[39m\"\u001b[39m\u001b[39mHTTP error code \u001b[39m\u001b[39m{}\u001b[39;00m\u001b[39m.\u001b[39m\u001b[39m\"\u001b[39m\u001b[39m.\u001b[39mformat(resp\u001b[39m.\u001b[39mstatus_code))\n\u001b[0;32m    353\u001b[0m is_html_query \u001b[39m=\u001b[39m \u001b[39mnot\u001b[39;00m is_graphql_query \u001b[39mand\u001b[39;00m \u001b[39mnot\u001b[39;00m \u001b[39m\"\u001b[39m\u001b[39m__a\u001b[39m\u001b[39m\"\u001b[39m \u001b[39min\u001b[39;00m params \u001b[39mand\u001b[39;00m host \u001b[39m==\u001b[39m \u001b[39m\"\u001b[39m\u001b[39mwww.instagram.com\u001b[39m\u001b[39m\"\u001b[39m\n",
      "\u001b[1;31mConnectionException\u001b[0m: HTTP error code 401.",
      "\nThe above exception was the direct cause of the following exception:\n",
      "\u001b[1;31mConnectionException\u001b[0m                       Traceback (most recent call last)",
      "\u001b[1;32mc:\\Users\\Tyler\\Documents\\projects\\python\\tanuki_bot\\scrape\\instagram_search.ipynb Cell 6\u001b[0m in \u001b[0;36m<cell line: 1>\u001b[1;34m()\u001b[0m\n\u001b[1;32m----> <a href='vscode-notebook-cell:/c%3A/Users/Tyler/Documents/projects/python/tanuki_bot/scrape/instagram_search.ipynb#W4sZmlsZQ%3D%3D?line=0'>1</a>\u001b[0m \u001b[39mfor\u001b[39;00m post \u001b[39min\u001b[39;00m instaloader\u001b[39m.\u001b[39;49mHashtag\u001b[39m.\u001b[39;49mfrom_name(L\u001b[39m.\u001b[39;49mcontext, \u001b[39m\"\u001b[39;49m\u001b[39mtanuki\u001b[39;49m\u001b[39m\"\u001b[39;49m)\u001b[39m.\u001b[39mget_posts():\n\u001b[0;32m      <a href='vscode-notebook-cell:/c%3A/Users/Tyler/Documents/projects/python/tanuki_bot/scrape/instagram_search.ipynb#W4sZmlsZQ%3D%3D?line=1'>2</a>\u001b[0m     \u001b[39mif\u001b[39;00m is_post_new(post\u001b[39m.\u001b[39mdate_utc):\n\u001b[0;32m      <a href='vscode-notebook-cell:/c%3A/Users/Tyler/Documents/projects/python/tanuki_bot/scrape/instagram_search.ipynb#W4sZmlsZQ%3D%3D?line=2'>3</a>\u001b[0m         L\u001b[39m.\u001b[39mdownload_post(post, target\u001b[39m=\u001b[39m\u001b[39m\"\u001b[39m\u001b[39m../tmp/\u001b[39m\u001b[39m\"\u001b[39m)\n",
      "File \u001b[1;32mc:\\Users\\Tyler\\AppData\\Local\\Programs\\Python\\Python310\\lib\\site-packages\\instaloader\\structures.py:1539\u001b[0m, in \u001b[0;36mHashtag.from_name\u001b[1;34m(cls, context, name)\u001b[0m\n\u001b[0;32m   1537\u001b[0m \u001b[39m# pylint:disable=protected-access\u001b[39;00m\n\u001b[0;32m   1538\u001b[0m hashtag \u001b[39m=\u001b[39m \u001b[39mcls\u001b[39m(context, {\u001b[39m'\u001b[39m\u001b[39mname\u001b[39m\u001b[39m'\u001b[39m: name\u001b[39m.\u001b[39mlower()})\n\u001b[1;32m-> 1539\u001b[0m hashtag\u001b[39m.\u001b[39;49m_obtain_metadata()\n\u001b[0;32m   1540\u001b[0m \u001b[39mreturn\u001b[39;00m hashtag\n",
      "File \u001b[1;32mc:\\Users\\Tyler\\AppData\\Local\\Programs\\Python\\Python310\\lib\\site-packages\\instaloader\\structures.py:1553\u001b[0m, in \u001b[0;36mHashtag._obtain_metadata\u001b[1;34m(self)\u001b[0m\n\u001b[0;32m   1551\u001b[0m \u001b[39mdef\u001b[39;00m \u001b[39m_obtain_metadata\u001b[39m(\u001b[39mself\u001b[39m):\n\u001b[0;32m   1552\u001b[0m     \u001b[39mif\u001b[39;00m \u001b[39mnot\u001b[39;00m \u001b[39mself\u001b[39m\u001b[39m.\u001b[39m_has_full_metadata:\n\u001b[1;32m-> 1553\u001b[0m         \u001b[39mself\u001b[39m\u001b[39m.\u001b[39m_node \u001b[39m=\u001b[39m \u001b[39mself\u001b[39;49m\u001b[39m.\u001b[39;49m_query({\u001b[39m\"\u001b[39;49m\u001b[39m__a\u001b[39;49m\u001b[39m\"\u001b[39;49m: \u001b[39m1\u001b[39;49m, \u001b[39m\"\u001b[39;49m\u001b[39m__d\u001b[39;49m\u001b[39m\"\u001b[39;49m: \u001b[39m\"\u001b[39;49m\u001b[39mdis\u001b[39;49m\u001b[39m\"\u001b[39;49m})\n\u001b[0;32m   1554\u001b[0m         \u001b[39mself\u001b[39m\u001b[39m.\u001b[39m_has_full_metadata \u001b[39m=\u001b[39m \u001b[39mTrue\u001b[39;00m\n",
      "File \u001b[1;32mc:\\Users\\Tyler\\AppData\\Local\\Programs\\Python\\Python310\\lib\\site-packages\\instaloader\\structures.py:1548\u001b[0m, in \u001b[0;36mHashtag._query\u001b[1;34m(self, params)\u001b[0m\n\u001b[0;32m   1547\u001b[0m \u001b[39mdef\u001b[39;00m \u001b[39m_query\u001b[39m(\u001b[39mself\u001b[39m, params):\n\u001b[1;32m-> 1548\u001b[0m     json_response \u001b[39m=\u001b[39m \u001b[39mself\u001b[39;49m\u001b[39m.\u001b[39;49m_context\u001b[39m.\u001b[39;49mget_json(\u001b[39m\"\u001b[39;49m\u001b[39mexplore/tags/\u001b[39;49m\u001b[39m{0}\u001b[39;49;00m\u001b[39m/\u001b[39;49m\u001b[39m\"\u001b[39;49m\u001b[39m.\u001b[39;49mformat(\u001b[39mself\u001b[39;49m\u001b[39m.\u001b[39;49mname), params)\n\u001b[0;32m   1549\u001b[0m     \u001b[39mreturn\u001b[39;00m json_response[\u001b[39m\"\u001b[39m\u001b[39mgraphql\u001b[39m\u001b[39m\"\u001b[39m][\u001b[39m\"\u001b[39m\u001b[39mhashtag\u001b[39m\u001b[39m\"\u001b[39m] \u001b[39mif\u001b[39;00m \u001b[39m\"\u001b[39m\u001b[39mgraphql\u001b[39m\u001b[39m\"\u001b[39m \u001b[39min\u001b[39;00m json_response \u001b[39melse\u001b[39;00m json_response[\u001b[39m\"\u001b[39m\u001b[39mdata\u001b[39m\u001b[39m\"\u001b[39m]\n",
      "File \u001b[1;32mc:\\Users\\Tyler\\AppData\\Local\\Programs\\Python\\Python310\\lib\\site-packages\\instaloader\\instaloadercontext.py:395\u001b[0m, in \u001b[0;36mInstaloaderContext.get_json\u001b[1;34m(self, path, params, host, session, _attempt)\u001b[0m\n\u001b[0;32m    393\u001b[0m         \u001b[39mif\u001b[39;00m is_other_query:\n\u001b[0;32m    394\u001b[0m             \u001b[39mself\u001b[39m\u001b[39m.\u001b[39m_rate_controller\u001b[39m.\u001b[39mhandle_429(\u001b[39m'\u001b[39m\u001b[39mother\u001b[39m\u001b[39m'\u001b[39m)\n\u001b[1;32m--> 395\u001b[0m     \u001b[39mreturn\u001b[39;00m \u001b[39mself\u001b[39;49m\u001b[39m.\u001b[39;49mget_json(path\u001b[39m=\u001b[39;49mpath, params\u001b[39m=\u001b[39;49mparams, host\u001b[39m=\u001b[39;49mhost, session\u001b[39m=\u001b[39;49msess, _attempt\u001b[39m=\u001b[39;49m_attempt \u001b[39m+\u001b[39;49m \u001b[39m1\u001b[39;49m)\n\u001b[0;32m    396\u001b[0m \u001b[39mexcept\u001b[39;00m \u001b[39mKeyboardInterrupt\u001b[39;00m:\n\u001b[0;32m    397\u001b[0m     \u001b[39mself\u001b[39m\u001b[39m.\u001b[39merror(\u001b[39m\"\u001b[39m\u001b[39m[skipped by user]\u001b[39m\u001b[39m\"\u001b[39m, repeat_at_end\u001b[39m=\u001b[39m\u001b[39mFalse\u001b[39;00m)\n",
      "File \u001b[1;32mc:\\Users\\Tyler\\AppData\\Local\\Programs\\Python\\Python310\\lib\\site-packages\\instaloader\\instaloadercontext.py:395\u001b[0m, in \u001b[0;36mInstaloaderContext.get_json\u001b[1;34m(self, path, params, host, session, _attempt)\u001b[0m\n\u001b[0;32m    393\u001b[0m         \u001b[39mif\u001b[39;00m is_other_query:\n\u001b[0;32m    394\u001b[0m             \u001b[39mself\u001b[39m\u001b[39m.\u001b[39m_rate_controller\u001b[39m.\u001b[39mhandle_429(\u001b[39m'\u001b[39m\u001b[39mother\u001b[39m\u001b[39m'\u001b[39m)\n\u001b[1;32m--> 395\u001b[0m     \u001b[39mreturn\u001b[39;00m \u001b[39mself\u001b[39;49m\u001b[39m.\u001b[39;49mget_json(path\u001b[39m=\u001b[39;49mpath, params\u001b[39m=\u001b[39;49mparams, host\u001b[39m=\u001b[39;49mhost, session\u001b[39m=\u001b[39;49msess, _attempt\u001b[39m=\u001b[39;49m_attempt \u001b[39m+\u001b[39;49m \u001b[39m1\u001b[39;49m)\n\u001b[0;32m    396\u001b[0m \u001b[39mexcept\u001b[39;00m \u001b[39mKeyboardInterrupt\u001b[39;00m:\n\u001b[0;32m    397\u001b[0m     \u001b[39mself\u001b[39m\u001b[39m.\u001b[39merror(\u001b[39m\"\u001b[39m\u001b[39m[skipped by user]\u001b[39m\u001b[39m\"\u001b[39m, repeat_at_end\u001b[39m=\u001b[39m\u001b[39mFalse\u001b[39;00m)\n",
      "File \u001b[1;32mc:\\Users\\Tyler\\AppData\\Local\\Programs\\Python\\Python310\\lib\\site-packages\\instaloader\\instaloadercontext.py:385\u001b[0m, in \u001b[0;36mInstaloaderContext.get_json\u001b[1;34m(self, path, params, host, session, _attempt)\u001b[0m\n\u001b[0;32m    383\u001b[0m         \u001b[39mraise\u001b[39;00m QueryReturnedNotFoundException(error_string) \u001b[39mfrom\u001b[39;00m \u001b[39merr\u001b[39;00m\n\u001b[0;32m    384\u001b[0m     \u001b[39melse\u001b[39;00m:\n\u001b[1;32m--> 385\u001b[0m         \u001b[39mraise\u001b[39;00m ConnectionException(error_string) \u001b[39mfrom\u001b[39;00m \u001b[39merr\u001b[39;00m\n\u001b[0;32m    386\u001b[0m \u001b[39mself\u001b[39m\u001b[39m.\u001b[39merror(error_string \u001b[39m+\u001b[39m \u001b[39m\"\u001b[39m\u001b[39m [retrying; skip with ^C]\u001b[39m\u001b[39m\"\u001b[39m, repeat_at_end\u001b[39m=\u001b[39m\u001b[39mFalse\u001b[39;00m)\n\u001b[0;32m    387\u001b[0m \u001b[39mtry\u001b[39;00m:\n",
      "\u001b[1;31mConnectionException\u001b[0m: JSON Query to explore/tags/tanuki/: HTTP error code 401."
     ]
    }
   ],
   "source": [
    "for post in instaloader.Hashtag.from_name(L.context, \"tanuki\").get_posts():\n",
    "    if is_post_new(post.date_utc):\n",
    "        L.download_post(post, target=\"../tmp/\")\n",
    "    else:\n",
    "        break"
   ]
  },
  {
   "cell_type": "code",
   "execution_count": null,
   "metadata": {},
   "outputs": [],
   "source": [
    "downloads = os.listdir(folder_name)\n",
    "for item in downloads:\n",
    "    if item.endswith(\".txt\") or item.endswith(\"json.xz\"):\n",
    "        os.remove(os.path.join(folder_name, item))"
   ]
  },
  {
   "cell_type": "code",
   "execution_count": null,
   "metadata": {},
   "outputs": [],
   "source": [
    "test = next(instaloader.Hashtag.from_name(L.context, \"tanuki\").get_posts())"
   ]
  },
  {
   "cell_type": "code",
   "execution_count": null,
   "metadata": {},
   "outputs": [
    {
     "data": {
      "text/plain": [
       "['__class__',\n",
       " '__delattr__',\n",
       " '__dict__',\n",
       " '__dir__',\n",
       " '__doc__',\n",
       " '__eq__',\n",
       " '__format__',\n",
       " '__ge__',\n",
       " '__getattribute__',\n",
       " '__gt__',\n",
       " '__hash__',\n",
       " '__init__',\n",
       " '__init_subclass__',\n",
       " '__le__',\n",
       " '__lt__',\n",
       " '__module__',\n",
       " '__ne__',\n",
       " '__new__',\n",
       " '__reduce__',\n",
       " '__reduce_ex__',\n",
       " '__repr__',\n",
       " '__setattr__',\n",
       " '__sizeof__',\n",
       " '__str__',\n",
       " '__subclasshook__',\n",
       " '__weakref__',\n",
       " '_asdict',\n",
       " '_context',\n",
       " '_field',\n",
       " '_full_metadata',\n",
       " '_full_metadata_dict',\n",
       " '_get_timestamp_date_created',\n",
       " '_iphone_struct',\n",
       " '_iphone_struct_',\n",
       " '_location',\n",
       " '_node',\n",
       " '_obtain_metadata',\n",
       " '_owner_profile',\n",
       " 'accessibility_caption',\n",
       " 'caption',\n",
       " 'caption_hashtags',\n",
       " 'caption_mentions',\n",
       " 'comments',\n",
       " 'date',\n",
       " 'date_local',\n",
       " 'date_utc',\n",
       " 'from_iphone_struct',\n",
       " 'from_mediaid',\n",
       " 'from_shortcode',\n",
       " 'get_comments',\n",
       " 'get_is_videos',\n",
       " 'get_likes',\n",
       " 'get_sidecar_nodes',\n",
       " 'is_pinned',\n",
       " 'is_sponsored',\n",
       " 'is_video',\n",
       " 'likes',\n",
       " 'location',\n",
       " 'mediacount',\n",
       " 'mediaid',\n",
       " 'mediaid_to_shortcode',\n",
       " 'owner_id',\n",
       " 'owner_profile',\n",
       " 'owner_username',\n",
       " 'pcaption',\n",
       " 'profile',\n",
       " 'shortcode',\n",
       " 'shortcode_to_mediaid',\n",
       " 'sponsor_users',\n",
       " 'supported_graphql_types',\n",
       " 'tagged_users',\n",
       " 'title',\n",
       " 'typename',\n",
       " 'url',\n",
       " 'video_duration',\n",
       " 'video_url',\n",
       " 'video_view_count',\n",
       " 'viewer_has_liked']"
      ]
     },
     "execution_count": 10,
     "metadata": {},
     "output_type": "execute_result"
    }
   ],
   "source": [
    "dir(test)"
   ]
  },
  {
   "cell_type": "code",
   "execution_count": null,
   "metadata": {},
   "outputs": [],
   "source": [
    "test.video_url"
   ]
  },
  {
   "cell_type": "code",
   "execution_count": null,
   "metadata": {},
   "outputs": [
    {
     "ename": "FileNotFoundError",
     "evalue": "[WinError 3] The system cannot find the path specified: './tmp'",
     "output_type": "error",
     "traceback": [
      "\u001b[1;31m---------------------------------------------------------------------------\u001b[0m",
      "\u001b[1;31mFileNotFoundError\u001b[0m                         Traceback (most recent call last)",
      "\u001b[1;32mc:\\Users\\Tyler\\Documents\\projects\\python\\tanuki_bot\\scrape\\instagram_search.ipynb Cell 12\u001b[0m in \u001b[0;36m<cell line: 1>\u001b[1;34m()\u001b[0m\n\u001b[1;32m----> <a href='vscode-notebook-cell:/c%3A/Users/Tyler/Documents/projects/python/tanuki_bot/scrape/instagram_search.ipynb#X12sZmlsZQ%3D%3D?line=0'>1</a>\u001b[0m \u001b[39mfor\u001b[39;00m file \u001b[39min\u001b[39;00m os\u001b[39m.\u001b[39;49mlistdir(\u001b[39m\"\u001b[39;49m\u001b[39m./tmp\u001b[39;49m\u001b[39m\"\u001b[39;49m):\n\u001b[0;32m      <a href='vscode-notebook-cell:/c%3A/Users/Tyler/Documents/projects/python/tanuki_bot/scrape/instagram_search.ipynb#X12sZmlsZQ%3D%3D?line=1'>2</a>\u001b[0m     \u001b[39mif\u001b[39;00m \u001b[39m\"\u001b[39m\u001b[39m.mp4\u001b[39m\u001b[39m\"\u001b[39m \u001b[39min\u001b[39;00m file:\n\u001b[0;32m      <a href='vscode-notebook-cell:/c%3A/Users/Tyler/Documents/projects/python/tanuki_bot/scrape/instagram_search.ipynb#X12sZmlsZQ%3D%3D?line=2'>3</a>\u001b[0m         \u001b[39m# Thumbnails are auto-downloaded, just move em to right folder\u001b[39;00m\n\u001b[0;32m      <a href='vscode-notebook-cell:/c%3A/Users/Tyler/Documents/projects/python/tanuki_bot/scrape/instagram_search.ipynb#X12sZmlsZQ%3D%3D?line=3'>4</a>\u001b[0m         shutil\u001b[39m.\u001b[39mmove(file, \u001b[39mf\u001b[39m\u001b[39m\"\u001b[39m\u001b[39m./tmp/thumbs/\u001b[39m\u001b[39m{\u001b[39;00mfile\u001b[39m}\u001b[39;00m\u001b[39m\"\u001b[39m)\n",
      "\u001b[1;31mFileNotFoundError\u001b[0m: [WinError 3] The system cannot find the path specified: './tmp'"
     ]
    }
   ],
   "source": [
    "for file in os.listdir(\"./tmp\"):\n",
    "    if \".mp4\" in file:\n",
    "        # Thumbnails are auto-downloaded, just move em to right folder\n",
    "        shutil.move(file, f\"./tmp/thumbs/{file}\")"
   ]
  },
  {
   "cell_type": "code",
   "execution_count": null,
   "metadata": {},
   "outputs": [],
   "source": []
  }
 ],
 "metadata": {
  "kernelspec": {
   "display_name": "Python 3",
   "language": "python",
   "name": "python3"
  },
  "language_info": {
   "codemirror_mode": {
    "name": "ipython",
    "version": 3
   },
   "file_extension": ".py",
   "mimetype": "text/x-python",
   "name": "python",
   "nbconvert_exporter": "python",
   "pygments_lexer": "ipython3",
   "version": "3.10.2"
  },
  "orig_nbformat": 4
 },
 "nbformat": 4,
 "nbformat_minor": 2
}
