{
 "cells": [
  {
   "cell_type": "code",
   "execution_count": 33,
   "metadata": {},
   "outputs": [],
   "source": [
    "import instaloader\n",
    "from datetime import datetime, timedelta\n",
    "import os"
   ]
  },
  {
   "cell_type": "code",
   "execution_count": 34,
   "metadata": {},
   "outputs": [],
   "source": [
    "folder_name = \"../tmp\"\n",
    "searches = [\"tanuki\", \"raccoondog\", \"japaneseraccoondog\"]"
   ]
  },
  {
   "cell_type": "code",
   "execution_count": null,
   "metadata": {},
   "outputs": [],
   "source": [
    "# If post was made in last 30 days \n",
    "def is_post_new(post_time):\n",
    "    thirty_day_ago = datetime.now() - timedelta(days=30)\n",
    "    return (post_time - thirty_day_ago).days > 0"
   ]
  },
  {
   "cell_type": "code",
   "execution_count": null,
   "metadata": {},
   "outputs": [],
   "source": [
    "L = instaloader.Instaloader()"
   ]
  },
  {
   "cell_type": "code",
   "execution_count": null,
   "metadata": {},
   "outputs": [],
   "source": [
    "for search in searches:\n",
    "    for post in instaloader.Hashtag.from_name(L.context, search).get_posts():\n",
    "        if is_post_new(post.date_utc):\n",
    "            L.download_post(post, target=folder_name)\n",
    "        else:\n",
    "            break"
   ]
  },
  {
   "cell_type": "code",
   "execution_count": 35,
   "metadata": {},
   "outputs": [],
   "source": [
    "downloads = os.listdir(folder_name)\n",
    "for item in downloads:\n",
    "    if item.endswith(\".txt\") or item.endswith(\"json.xz\"):\n",
    "        os.remove(os.path.join(folder_name, item))"
   ]
  }
 ],
 "metadata": {
  "kernelspec": {
   "display_name": "Python 3",
   "language": "python",
   "name": "python3"
  },
  "language_info": {
   "codemirror_mode": {
    "name": "ipython",
    "version": 3
   },
   "file_extension": ".py",
   "mimetype": "text/x-python",
   "name": "python",
   "nbconvert_exporter": "python",
   "pygments_lexer": "ipython3",
   "version": "3.10.2"
  },
  "orig_nbformat": 4
 },
 "nbformat": 4,
 "nbformat_minor": 2
}
